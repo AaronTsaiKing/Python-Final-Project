{
 "cells": [
  {
   "cell_type": "code",
   "execution_count": 3,
   "metadata": {},
   "outputs": [],
   "source": [
    "'''\n",
    "A file with a name like picture.jpg is said to have an extension of \"jpg\";\n",
    "i.e. the extension of a file is the part of the file after the final period in its name. \n",
    "Write a program that takes as an argument the name of a directory (folder) and then finds the extension of each file. \n",
    "Then, for each extension found, it prints the number of files with that extension and the minimum, average, \n",
    "and maximum size for files with that extension in the selected directory.\n",
    "\n",
    "'''\n",
    "\n",
    "import os,re\n",
    "\n",
    "def average(list):\n",
    "    total=0\n",
    "    count=0\n",
    "    for i in list:\n",
    "        total+=i\n",
    "        count+=1\n",
    "    avr=total/count\n",
    "    return avr\n",
    "\n",
    "def sumfiles(dir):\n",
    "    files = os.listdir(dir)\n",
    "    new=[]\n",
    "    templist=[]\n",
    "    data_size_list = {}\n",
    "    typ_data={}\n",
    "    typ_count={}\n",
    "    for f in files:\n",
    "        fullname = os.path.join(dir,f)\n",
    "        if not os.path.isdir(fullname) and not os.path.islink(fullname):\n",
    "            new.append(f)\n",
    "        extpat=re.compile(r'''['\"]\\w+\\.(.+?)['\"]''',re.I)\n",
    "        m=extpat.findall(str(new))\n",
    "        \n",
    "    for typ in m:  \n",
    "        if typ in typ_count:\n",
    "            typ_count[typ]+=1\n",
    "        else:\n",
    "            typ_count[typ]=1\n",
    "            \n",
    "    for f in files:\n",
    "        fullname = os.path.join(dir,f)\n",
    "        if not os.path.isdir(fullname) and not os.path.islink(fullname):\n",
    "            data_size_list[f]=os.path.getsize(fullname)\n",
    "            \n",
    "    for i in data_size_list.keys():\n",
    "        for x in typ_count.keys():\n",
    "            if str(i).endswith(str(x)):\n",
    "                if x in typ_data.keys():\n",
    "                    typ_data[x].append(data_size_list.get(i))\n",
    "                else:\n",
    "                    typ_data[x]=list([data_size_list.get(i)])\n",
    "                    \n",
    "    for x in typ_data.keys():\n",
    "        mini=min(typ_data[x])\n",
    "        maxi=max(typ_data[x])\n",
    "        number=len(typ_data[x])\n",
    "        avr=average((typ_data[x]))\n",
    "        print( 'Type: %s \\nNumber:%s \\nMinimun:%s \\nAverage:%s \\nMaximun:%s'%(x,number, mini,avr,maxi))\n"
   ]
  },
  {
   "cell_type": "code",
   "execution_count": null,
   "metadata": {},
   "outputs": [],
   "source": []
  }
 ],
 "metadata": {
  "kernelspec": {
   "display_name": "Python 3",
   "language": "python",
   "name": "python3"
  },
  "language_info": {
   "codemirror_mode": {
    "name": "ipython",
    "version": 3
   },
   "file_extension": ".py",
   "mimetype": "text/x-python",
   "name": "python",
   "nbconvert_exporter": "python",
   "pygments_lexer": "ipython3",
   "version": "3.7.3"
  }
 },
 "nbformat": 4,
 "nbformat_minor": 2
}
